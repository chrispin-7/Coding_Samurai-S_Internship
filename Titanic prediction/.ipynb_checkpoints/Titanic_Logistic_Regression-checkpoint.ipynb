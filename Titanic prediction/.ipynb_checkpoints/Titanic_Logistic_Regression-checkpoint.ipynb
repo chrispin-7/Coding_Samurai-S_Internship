{
 "cells": [
  {
   "cell_type": "markdown",
   "id": "5ce8fc19",
   "metadata": {},
   "source": [
    "# 🚀 Project 4: Titanic Survival Prediction using Logistic Regression\n",
    "\n",
    "## 🧠 Objective\n",
    "In this project, we build a **logistic regression classification model** to predict whether a passenger survived the Titanic disaster, based on features like age, gender, passenger class, and more.\n",
    "\n",
    "This project is part of my **Coding Samurai Data Science Internship** and focuses on implementing a basic classification model using the Titanic dataset.\n",
    "\n",
    "## 🗂️ Dataset Information\n",
    "- **Source**: [Kaggle Titanic: Machine Learning from Disaster](https://www.kaggle.com/competitions/titanic/data)\n",
    "- **Files Used**: `train.csv`\n",
    "- **Target Variable**: `Survived` (0 = Did not survive, 1 = Survived)\n",
    "- **Features**:\n",
    "  - `Pclass` (Passenger class)\n",
    "  - `Sex`\n",
    "  - `Age`\n",
    "  - `SibSp` (Number of siblings/spouses aboard)\n",
    "  - `Parch` (Number of parents/children aboard)\n",
    "  - `Fare`\n",
    "  - `Embarked`\n",
    "\n",
    "Let's dive into the code and start with loading the dataset!"
   ]
  },
  {
   "cell_type": "code",
   "execution_count": 12,
   "id": "9fa15c23",
   "metadata": {},
   "outputs": [
    {
     "data": {
      "text/html": [
       "<div>\n",
       "<style scoped>\n",
       "    .dataframe tbody tr th:only-of-type {\n",
       "        vertical-align: middle;\n",
       "    }\n",
       "\n",
       "    .dataframe tbody tr th {\n",
       "        vertical-align: top;\n",
       "    }\n",
       "\n",
       "    .dataframe thead th {\n",
       "        text-align: right;\n",
       "    }\n",
       "</style>\n",
       "<table border=\"1\" class=\"dataframe\">\n",
       "  <thead>\n",
       "    <tr style=\"text-align: right;\">\n",
       "      <th></th>\n",
       "      <th>PassengerId</th>\n",
       "      <th>Survived</th>\n",
       "      <th>Pclass</th>\n",
       "      <th>Name</th>\n",
       "      <th>Sex</th>\n",
       "      <th>Age</th>\n",
       "      <th>SibSp</th>\n",
       "      <th>Parch</th>\n",
       "      <th>Ticket</th>\n",
       "      <th>Fare</th>\n",
       "      <th>Cabin</th>\n",
       "      <th>Embarked</th>\n",
       "    </tr>\n",
       "  </thead>\n",
       "  <tbody>\n",
       "    <tr>\n",
       "      <th>0</th>\n",
       "      <td>1</td>\n",
       "      <td>0</td>\n",
       "      <td>3</td>\n",
       "      <td>Braund, Mr. Owen Harris</td>\n",
       "      <td>male</td>\n",
       "      <td>22.0</td>\n",
       "      <td>1</td>\n",
       "      <td>0</td>\n",
       "      <td>A/5 21171</td>\n",
       "      <td>7.2500</td>\n",
       "      <td>NaN</td>\n",
       "      <td>S</td>\n",
       "    </tr>\n",
       "    <tr>\n",
       "      <th>1</th>\n",
       "      <td>2</td>\n",
       "      <td>1</td>\n",
       "      <td>1</td>\n",
       "      <td>Cumings, Mrs. John Bradley (Florence Briggs Th...</td>\n",
       "      <td>female</td>\n",
       "      <td>38.0</td>\n",
       "      <td>1</td>\n",
       "      <td>0</td>\n",
       "      <td>PC 17599</td>\n",
       "      <td>71.2833</td>\n",
       "      <td>C85</td>\n",
       "      <td>C</td>\n",
       "    </tr>\n",
       "    <tr>\n",
       "      <th>2</th>\n",
       "      <td>3</td>\n",
       "      <td>1</td>\n",
       "      <td>3</td>\n",
       "      <td>Heikkinen, Miss. Laina</td>\n",
       "      <td>female</td>\n",
       "      <td>26.0</td>\n",
       "      <td>0</td>\n",
       "      <td>0</td>\n",
       "      <td>STON/O2. 3101282</td>\n",
       "      <td>7.9250</td>\n",
       "      <td>NaN</td>\n",
       "      <td>S</td>\n",
       "    </tr>\n",
       "    <tr>\n",
       "      <th>3</th>\n",
       "      <td>4</td>\n",
       "      <td>1</td>\n",
       "      <td>1</td>\n",
       "      <td>Futrelle, Mrs. Jacques Heath (Lily May Peel)</td>\n",
       "      <td>female</td>\n",
       "      <td>35.0</td>\n",
       "      <td>1</td>\n",
       "      <td>0</td>\n",
       "      <td>113803</td>\n",
       "      <td>53.1000</td>\n",
       "      <td>C123</td>\n",
       "      <td>S</td>\n",
       "    </tr>\n",
       "    <tr>\n",
       "      <th>4</th>\n",
       "      <td>5</td>\n",
       "      <td>0</td>\n",
       "      <td>3</td>\n",
       "      <td>Allen, Mr. William Henry</td>\n",
       "      <td>male</td>\n",
       "      <td>35.0</td>\n",
       "      <td>0</td>\n",
       "      <td>0</td>\n",
       "      <td>373450</td>\n",
       "      <td>8.0500</td>\n",
       "      <td>NaN</td>\n",
       "      <td>S</td>\n",
       "    </tr>\n",
       "  </tbody>\n",
       "</table>\n",
       "</div>"
      ],
      "text/plain": [
       "   PassengerId  Survived  Pclass  \\\n",
       "0            1         0       3   \n",
       "1            2         1       1   \n",
       "2            3         1       3   \n",
       "3            4         1       1   \n",
       "4            5         0       3   \n",
       "\n",
       "                                                Name     Sex   Age  SibSp  \\\n",
       "0                            Braund, Mr. Owen Harris    male  22.0      1   \n",
       "1  Cumings, Mrs. John Bradley (Florence Briggs Th...  female  38.0      1   \n",
       "2                             Heikkinen, Miss. Laina  female  26.0      0   \n",
       "3       Futrelle, Mrs. Jacques Heath (Lily May Peel)  female  35.0      1   \n",
       "4                           Allen, Mr. William Henry    male  35.0      0   \n",
       "\n",
       "   Parch            Ticket     Fare Cabin Embarked  \n",
       "0      0         A/5 21171   7.2500   NaN        S  \n",
       "1      0          PC 17599  71.2833   C85        C  \n",
       "2      0  STON/O2. 3101282   7.9250   NaN        S  \n",
       "3      0            113803  53.1000  C123        S  \n",
       "4      0            373450   8.0500   NaN        S  "
      ]
     },
     "execution_count": 12,
     "metadata": {},
     "output_type": "execute_result"
    }
   ],
   "source": [
    "# Import necessary libraries\n",
    "import pandas as pd\n",
    "import numpy as np\n",
    "import seaborn as sns\n",
    "import matplotlib.pyplot as plt\n",
    "\n",
    "# Load the Titanic training dataset\n",
    "df = pd.read_csv(\"train.csv\")\n",
    "\n",
    "# Preview the first few rows\n",
    "df.head()"
   ]
  },
  {
   "cell_type": "markdown",
   "id": "67aff19a",
   "metadata": {},
   "source": [
    "## 📊 Section 2: Data Overview & Missing Value Analysis\n",
    "\n",
    "Before modeling, it's important to understand the structure and quality of our data. In this section, we’ll:\n",
    "- Examine column names, data types, and non-null values\n",
    "- Generate summary statistics for numerical features\n",
    "- Identify missing values across the dataset"
   ]
  },
  {
   "cell_type": "code",
   "execution_count": 13,
   "id": "f49c6bb6",
   "metadata": {},
   "outputs": [
    {
     "name": "stdout",
     "output_type": "stream",
     "text": [
      "<class 'pandas.core.frame.DataFrame'>\n",
      "RangeIndex: 891 entries, 0 to 890\n",
      "Data columns (total 12 columns):\n",
      " #   Column       Non-Null Count  Dtype  \n",
      "---  ------       --------------  -----  \n",
      " 0   PassengerId  891 non-null    int64  \n",
      " 1   Survived     891 non-null    int64  \n",
      " 2   Pclass       891 non-null    int64  \n",
      " 3   Name         891 non-null    object \n",
      " 4   Sex          891 non-null    object \n",
      " 5   Age          714 non-null    float64\n",
      " 6   SibSp        891 non-null    int64  \n",
      " 7   Parch        891 non-null    int64  \n",
      " 8   Ticket       891 non-null    object \n",
      " 9   Fare         891 non-null    float64\n",
      " 10  Cabin        204 non-null    object \n",
      " 11  Embarked     889 non-null    object \n",
      "dtypes: float64(2), int64(5), object(5)\n",
      "memory usage: 83.7+ KB\n"
     ]
    },
    {
     "data": {
      "text/plain": [
       "PassengerId      0\n",
       "Survived         0\n",
       "Pclass           0\n",
       "Name             0\n",
       "Sex              0\n",
       "Age            177\n",
       "SibSp            0\n",
       "Parch            0\n",
       "Ticket           0\n",
       "Fare             0\n",
       "Cabin          687\n",
       "Embarked         2\n",
       "dtype: int64"
      ]
     },
     "execution_count": 13,
     "metadata": {},
     "output_type": "execute_result"
    }
   ],
   "source": [
    "# Get basic info about dataset structure\n",
    "df.info()\n",
    "\n",
    "# Summary statistics for numeric columns\n",
    "df.describe()\n",
    "\n",
    "# Check for missing values\n",
    "df.isnull().sum()"
   ]
  },
  {
   "cell_type": "markdown",
   "id": "7f01e2dd",
   "metadata": {},
   "source": [
    "## 📊 Section 3: Exploratory Data Analysis (EDA)\n",
    "\n",
    "This section visualizes survival distribution across key features to help us identify which variables may impact the likelihood of survival. We'll use Seaborn and Matplotlib to explore:\n",
    "- Survival distribution overall\n",
    "- Survival by gender\n",
    "- Survival by passenger class"
   ]
  },
  {
   "cell_type": "code",
   "execution_count": 14,
   "id": "0f708920",
   "metadata": {},
   "outputs": [
    {
     "data": {
      "image/png": "[encoded data removed]",
      "text/plain": [
       "<Figure size 640x480 with 1 Axes>"
      ]
     },
     "metadata": {},
     "output_type": "display_data"
    },
    {
     "data": {
      "image/png": "[encoded data removed]",
      "text/plain": [
       "<Figure size 640x480 with 1 Axes>"
      ]
     },
     "metadata": {},
     "output_type": "display_data"
    },
    {
     "data": {
      "image/png": "[encoded data removed]",
      "text/plain": [
       "<Figure size 640x480 with 1 Axes>"
      ]
     },
     "metadata": {},
     "output_type": "display_data"
    }
   ],
   "source": [
    "import seaborn as sns\n",
    "import matplotlib.pyplot as plt\n",
    "import os\n",
    "import re\n",
    "\n",
    "os.makedirs(\"images\", exist_ok=True)\n",
    "plot_title = \"Overall Survival Distribution\"\n",
    "plot_title2 = \"Survival by Gender\"\n",
    "plot_title3 = \"Survival by Passenger Class\"\n",
    "\n",
    "\n",
    "filename = re.sub(r'[^A-Za-z0-9]+', '_', plot_title.lower()) + \".png\"\n",
    "filename2 = re.sub(r'[^A-Za-z0-9]+', '_', plot_title2.lower()) + \".png\"\n",
    "filename3 = re.sub(r'[^A-Za-z0-9]+', '_', plot_title3.lower()) + \".png\"\n",
    "\n",
    "\n",
    "# Survival distribution\n",
    "sns.countplot(x='Survived', hue='Survived', data=df, palette='pastel', legend=False)\n",
    "plt.title(plot_title)\n",
    "plt.savefig(f\"images/{filename}\", dpi=300, bbox_inches='tight')\n",
    "plt.show()\n",
    "\n",
    "# Survival by gender\n",
    "sns.countplot(x='Survived', hue='Sex', data=df, palette='Set2')\n",
    "plt.title(plot_title2)\n",
    "plt.savefig(f\"images/{filename2}\", dpi=300, bbox_inches='tight')\n",
    "plt.show()\n",
    "\n",
    "# Survival by passenger class\n",
    "sns.countplot(x='Survived', hue='Pclass', data=df, palette='Set1')\n",
    "plt.title(plot_title3)\n",
    "plt.savefig(f\"images/{filename3}\", dpi=300, bbox_inches='tight')\n",
    "plt.show()"
   ]
  },
  {
   "cell_type": "markdown",
   "id": "8089b2b0",
   "metadata": {},
   "source": [
    "## 📈 Age and Fare Distributions\n",
    "\n",
    "Visualizing the distribution of continuous features like `Age` and `Fare` helps us understand the data better. This can uncover skewness, outliers, and natural groupings that may affect model performance."
   ]
  },
  {
   "cell_type": "code",
   "execution_count": 15,
   "id": "dc932d92",
   "metadata": {},
   "outputs": [
    {
     "data": {
      "image/png": "[encoded data removed]",
      "text/plain": [
       "<Figure size 800x500 with 1 Axes>"
      ]
     },
     "metadata": {},
     "output_type": "display_data"
    },
    {
     "data": {
      "image/png": "[encoded data removed]",
      "text/plain": [
       "<Figure size 800x500 with 1 Axes>"
      ]
     },
     "metadata": {},
     "output_type": "display_data"
    }
   ],
   "source": [
    "os.makedirs(\"images\", exist_ok=True)\n",
    "plot_title = \"Age Distribution\"\n",
    "plot_title2 = \"Fare Distribution\"\n",
    "filename = re.sub(r'[^A-Za-z0-9]+', '_', plot_title.lower()) + \".png\"\n",
    "filename2 = re.sub(r'[^A-Za-z0-9]+', '_', plot_title2.lower()) + \".png\"\n",
    "\n",
    "# Age Distribution\n",
    "plt.figure(figsize=(8, 5))\n",
    "df['Age'].hist(bins=30, color='skyblue', edgecolor='black')\n",
    "plt.title(plot_title)\n",
    "plt.xlabel(\"Age\")\n",
    "plt.ylabel(\"Frequency\")\n",
    "plt.grid(False)\n",
    "plt.savefig(f\"images/{filename}\", dpi=300, bbox_inches='tight')\n",
    "plt.show()\n",
    "\n",
    "# Fare Distribution\n",
    "plt.figure(figsize=(8, 5))\n",
    "df['Fare'].hist(bins=30, color='salmon', edgecolor='black')\n",
    "plt.title(plot_title2)\n",
    "plt.xlabel(\"Fare\")\n",
    "plt.ylabel(\"Frequency\")\n",
    "plt.grid(False)\n",
    "plt.savefig(f\"images/{filename2}\", dpi=300, bbox_inches='tight')\n",
    "plt.show()"
   ]
  },
  {
   "cell_type": "markdown",
   "id": "8dc7f240",
   "metadata": {},
   "source": [
    "## 🧼 Data Cleaning - Handling Missing Values\n",
    "\n",
    "The dataset has missing values in the `Age`, `Cabin`, and `Embarked` columns. Here's how we'll handle them:\n",
    "\n",
    "- **Drop `Cabin`** since it's mostly missing and not that informative.\n",
    "- **Fill missing `Age`** with the median age.\n",
    "- **Fill missing `Embarked`** with the most frequent value (mode)."
   ]
  },
  {
   "cell_type": "code",
   "execution_count": 16,
   "id": "35e95e00",
   "metadata": {},
   "outputs": [
    {
     "name": "stdout",
     "output_type": "stream",
     "text": [
      "Missing values after cleaning:\n",
      " PassengerId    0\n",
      "Survived       0\n",
      "Pclass         0\n",
      "Name           0\n",
      "Sex            0\n",
      "Age            0\n",
      "SibSp          0\n",
      "Parch          0\n",
      "Ticket         0\n",
      "Fare           0\n",
      "Embarked       0\n",
      "dtype: int64\n"
     ]
    }
   ],
   "source": [
    "# Drop Cabin since it's mostly missing\n",
    "df.drop(columns='Cabin', inplace=True)\n",
    "\n",
    "# Replace missing Age with median — the safe way\n",
    "df['Age'] = df['Age'].fillna(df['Age'].median())\n",
    "\n",
    "# Replace missing Embarked with mode — the safe way\n",
    "df['Embarked'] = df['Embarked'].fillna(df['Embarked'].mode()[0])\n",
    "\n",
    "# Final check for missing values\n",
    "print(\"Missing values after cleaning:\\n\", df.isnull().sum())"
   ]
  },
  {
   "cell_type": "markdown",
   "id": "0837e2b5",
   "metadata": {},
   "source": [
    "### 📘 Encoding Categorical Variables\n",
    "\n",
    "To feed our data into a machine learning model, we need to convert categorical variables like `Sex` and `Embarked` into numerical values. This step is essential for most scikit-learn models, including logistic regression.\n",
    "\n",
    "We’ll:\n",
    "- Map `Sex` to 0 and 1.\n",
    "- Use `get_dummies()` for `Embarked` and drop one to avoid multicollinearity."
   ]
  },
  {
   "cell_type": "code",
   "execution_count": 17,
   "id": "18fe7da6",
   "metadata": {},
   "outputs": [
    {
     "data": {
      "text/html": [
       "<div>\n",
       "<style scoped>\n",
       "    .dataframe tbody tr th:only-of-type {\n",
       "        vertical-align: middle;\n",
       "    }\n",
       "\n",
       "    .dataframe tbody tr th {\n",
       "        vertical-align: top;\n",
       "    }\n",
       "\n",
       "    .dataframe thead th {\n",
       "        text-align: right;\n",
       "    }\n",
       "</style>\n",
       "<table border=\"1\" class=\"dataframe\">\n",
       "  <thead>\n",
       "    <tr style=\"text-align: right;\">\n",
       "      <th></th>\n",
       "      <th>PassengerId</th>\n",
       "      <th>Survived</th>\n",
       "      <th>Pclass</th>\n",
       "      <th>Name</th>\n",
       "      <th>Sex</th>\n",
       "      <th>Age</th>\n",
       "      <th>SibSp</th>\n",
       "      <th>Parch</th>\n",
       "      <th>Ticket</th>\n",
       "      <th>Fare</th>\n",
       "      <th>Embarked_Q</th>\n",
       "      <th>Embarked_S</th>\n",
       "    </tr>\n",
       "  </thead>\n",
       "  <tbody>\n",
       "    <tr>\n",
       "      <th>0</th>\n",
       "      <td>1</td>\n",
       "      <td>0</td>\n",
       "      <td>3</td>\n",
       "      <td>Braund, Mr. Owen Harris</td>\n",
       "      <td>0</td>\n",
       "      <td>22.0</td>\n",
       "      <td>1</td>\n",
       "      <td>0</td>\n",
       "      <td>A/5 21171</td>\n",
       "      <td>7.2500</td>\n",
       "      <td>False</td>\n",
       "      <td>True</td>\n",
       "    </tr>\n",
       "    <tr>\n",
       "      <th>1</th>\n",
       "      <td>2</td>\n",
       "      <td>1</td>\n",
       "      <td>1</td>\n",
       "      <td>Cumings, Mrs. John Bradley (Florence Briggs Th...</td>\n",
       "      <td>1</td>\n",
       "      <td>38.0</td>\n",
       "      <td>1</td>\n",
       "      <td>0</td>\n",
       "      <td>PC 17599</td>\n",
       "      <td>71.2833</td>\n",
       "      <td>False</td>\n",
       "      <td>False</td>\n",
       "    </tr>\n",
       "    <tr>\n",
       "      <th>2</th>\n",
       "      <td>3</td>\n",
       "      <td>1</td>\n",
       "      <td>3</td>\n",
       "      <td>Heikkinen, Miss. Laina</td>\n",
       "      <td>1</td>\n",
       "      <td>26.0</td>\n",
       "      <td>0</td>\n",
       "      <td>0</td>\n",
       "      <td>STON/O2. 3101282</td>\n",
       "      <td>7.9250</td>\n",
       "      <td>False</td>\n",
       "      <td>True</td>\n",
       "    </tr>\n",
       "    <tr>\n",
       "      <th>3</th>\n",
       "      <td>4</td>\n",
       "      <td>1</td>\n",
       "      <td>1</td>\n",
       "      <td>Futrelle, Mrs. Jacques Heath (Lily May Peel)</td>\n",
       "      <td>1</td>\n",
       "      <td>35.0</td>\n",
       "      <td>1</td>\n",
       "      <td>0</td>\n",
       "      <td>113803</td>\n",
       "      <td>53.1000</td>\n",
       "      <td>False</td>\n",
       "      <td>True</td>\n",
       "    </tr>\n",
       "    <tr>\n",
       "      <th>4</th>\n",
       "      <td>5</td>\n",
       "      <td>0</td>\n",
       "      <td>3</td>\n",
       "      <td>Allen, Mr. William Henry</td>\n",
       "      <td>0</td>\n",
       "      <td>35.0</td>\n",
       "      <td>0</td>\n",
       "      <td>0</td>\n",
       "      <td>373450</td>\n",
       "      <td>8.0500</td>\n",
       "      <td>False</td>\n",
       "      <td>True</td>\n",
       "    </tr>\n",
       "  </tbody>\n",
       "</table>\n",
       "</div>"
      ],
      "text/plain": [
       "   PassengerId  Survived  Pclass  \\\n",
       "0            1         0       3   \n",
       "1            2         1       1   \n",
       "2            3         1       3   \n",
       "3            4         1       1   \n",
       "4            5         0       3   \n",
       "\n",
       "                                                Name  Sex   Age  SibSp  Parch  \\\n",
       "0                            Braund, Mr. Owen Harris    0  22.0      1      0   \n",
       "1  Cumings, Mrs. John Bradley (Florence Briggs Th...    1  38.0      1      0   \n",
       "2                             Heikkinen, Miss. Laina    1  26.0      0      0   \n",
       "3       Futrelle, Mrs. Jacques Heath (Lily May Peel)    1  35.0      1      0   \n",
       "4                           Allen, Mr. William Henry    0  35.0      0      0   \n",
       "\n",
       "             Ticket     Fare  Embarked_Q  Embarked_S  \n",
       "0         A/5 21171   7.2500       False        True  \n",
       "1          PC 17599  71.2833       False       False  \n",
       "2  STON/O2. 3101282   7.9250       False        True  \n",
       "3            113803  53.1000       False        True  \n",
       "4            373450   8.0500       False        True  "
      ]
     },
     "execution_count": 17,
     "metadata": {},
     "output_type": "execute_result"
    }
   ],
   "source": [
    "# Encode 'Sex' column: male -> 0, female -> 1\n",
    "df['Sex'] = df['Sex'].map({'male': 0, 'female': 1})\n",
    "\n",
    "# One-hot encode 'Embarked' and drop the first to avoid dummy variable trap\n",
    "df = pd.get_dummies(df, columns=['Embarked'], drop_first=True)\n",
    "\n",
    "# Let's check the updated DataFrame\n",
    "df.head()"
   ]
  },
  {
   "cell_type": "markdown",
   "id": "20a2eb79",
   "metadata": {},
   "source": [
    "### 🧹 Dropping Irrelevant Columns\n",
    "\n",
    "Certain columns like `PassengerId`, `Name`, and `Ticket` don’t provide meaningful value to our predictive model. They may introduce noise or unnecessary complexity.\n",
    "\n",
    "We’ll drop:\n",
    "- `PassengerId` — just an identifier, no predictive power.\n",
    "- `Name` — while titles could be useful, we won't extract them in this basic model.\n",
    "- `Ticket` — too unstructured and inconsistent for simple models."
   ]
  },
  {
   "cell_type": "code",
   "execution_count": 18,
   "id": "08eb7210",
   "metadata": {},
   "outputs": [],
   "source": [
    "# Dropping irrelevant columns\n",
    "df.drop(['PassengerId', 'Name', 'Ticket'], axis=1, inplace=True)"
   ]
  },
  {
   "cell_type": "markdown",
   "id": "daf44b32",
   "metadata": {},
   "source": [
    "### 📚 Train-Test Split\n",
    "\n",
    "Now that the dataset is cleaned and preprocessed, we’ll split it into **features (X)** and **target (y)**.\n",
    "\n",
    "Then, we’ll split the data into **training** and **testing** sets using `train_test_split` from `sklearn.model_selection`.\n",
    "\n",
    "This helps us evaluate the model on unseen data and avoid overfitting."
   ]
  },
  {
   "cell_type": "code",
   "execution_count": 19,
   "id": "60178190",
   "metadata": {},
   "outputs": [],
   "source": [
    "from sklearn.model_selection import train_test_split\n",
    "\n",
    "# Define features and target\n",
    "X = df.drop('Survived', axis=1)\n",
    "y = df['Survived']\n",
    "\n",
    "# Train-test split\n",
    "X_train, X_test, y_train, y_test = train_test_split(X, y, test_size=0.2, random_state=42)"
   ]
  },
  {
   "cell_type": "markdown",
   "id": "0a37afaa",
   "metadata": {},
   "source": [
    "### 🤖 Model Training - Logistic Regression\n",
    "\n",
    "Now we’ll build a **Logistic Regression** model using `Scikit-learn`. Logistic Regression is a powerful yet interpretable algorithm for binary classification tasks like predicting survival (Yes/No).\n",
    "\n",
    "We'll use `LogisticRegression` from `sklearn.linear_model`, train it on the training data, and make predictions on the test set."
   ]
  },
  {
   "cell_type": "code",
   "execution_count": 20,
   "id": "41266892",
   "metadata": {},
   "outputs": [],
   "source": [
    "from sklearn.linear_model import LogisticRegression\n",
    "\n",
    "# Initialize and train the model\n",
    "model = LogisticRegression(max_iter=1000)\n",
    "model.fit(X_train, y_train)\n",
    "\n",
    "# Predict on test set\n",
    "y_pred = model.predict(X_test)"
   ]
  },
  {
   "cell_type": "markdown",
   "id": "34cbff2b",
   "metadata": {},
   "source": [
    "## 📊 Model Evaluation\n",
    "\n",
    "After training the logistic regression model, we evaluate its performance using:\n",
    "\n",
    "- **Accuracy Score**: Overall correctness of the model.\n",
    "- **Confusion Matrix**: Breaks down predictions into true/false positives/negatives.\n",
    "- **Classification Report**: Gives precision, recall, and F1-score for each class."
   ]
  },
  {
   "cell_type": "code",
   "execution_count": 21,
   "id": "941d50e2",
   "metadata": {},
   "outputs": [
    {
     "name": "stdout",
     "output_type": "stream",
     "text": [
      "Accuracy: 0.81\n",
      "Confusion Matrix:\n",
      " [[90 15]\n",
      " [19 55]]\n",
      "Classification Report:\n",
      "               precision    recall  f1-score   support\n",
      "\n",
      "           0       0.83      0.86      0.84       105\n",
      "           1       0.79      0.74      0.76        74\n",
      "\n",
      "    accuracy                           0.81       179\n",
      "   macro avg       0.81      0.80      0.80       179\n",
      "weighted avg       0.81      0.81      0.81       179\n",
      "\n"
     ]
    }
   ],
   "source": [
    "from sklearn.metrics import accuracy_score, confusion_matrix, classification_report\n",
    "\n",
    "# Predictions\n",
    "y_pred = model.predict(X_test)\n",
    "\n",
    "# Accuracy\n",
    "acc = accuracy_score(y_test, y_pred)\n",
    "print(f\"Accuracy: {acc:.2f}\")\n",
    "\n",
    "# Confusion Matrix\n",
    "cm = confusion_matrix(y_test, y_pred)\n",
    "print(\"Confusion Matrix:\\n\", cm)\n",
    "\n",
    "# Classification Report\n",
    "cr = classification_report(y_test, y_pred)\n",
    "print(\"Classification Report:\\n\", cr)"
   ]
  },
  {
   "cell_type": "markdown",
   "id": "0b8538c1",
   "metadata": {},
   "source": [
    "## 🔍 Confusion Matrix Visualization\n",
    "\n",
    "To better understand model performance, we visualize the confusion matrix. This highlights where the model predicts well and where it may be misclassifying."
   ]
  },
  {
   "cell_type": "code",
   "execution_count": 22,
   "id": "b77e432d",
   "metadata": {},
   "outputs": [
    {
     "data": {
      "image/png": "[encoded data removed]",
      "text/plain": [
       "<Figure size 600x400 with 2 Axes>"
      ]
     },
     "metadata": {},
     "output_type": "display_data"
    }
   ],
   "source": [
    "import seaborn as sns\n",
    "import matplotlib.pyplot as plt\n",
    "\n",
    "os.makedirs(\"images\", exist_ok=True)\n",
    "plot_title = \"Confusion Matrix Heatmap\"\n",
    "filename = re.sub(r'[^A-Za-z0-9]+', '_', plot_title.lower()) + \".png\"\n",
    "\n",
    "plt.figure(figsize=(6,4))\n",
    "sns.heatmap(cm, annot=True, fmt='d', cmap='Blues')\n",
    "plt.xlabel('Predicted Labels')\n",
    "plt.ylabel('Actual Labels')\n",
    "plt.title(plot_title)\n",
    "plt.savefig(f\"images/{filename}\", dpi=300, bbox_inches='tight')\n",
    "plt.show()"
   ]
  }
 ],
 "metadata": {
  "kernelspec": {
   "display_name": ".venv",
   "language": "python",
   "name": "python3"
  },
  "language_info": {
   "codemirror_mode": {
    "name": "ipython",
    "version": 3
   },
   "file_extension": ".py",
   "mimetype": "text/x-python",
   "name": "python",
   "nbconvert_exporter": "python",
   "pygments_lexer": "ipython3",
   "version": "3.13.2"
  }
 },
 "nbformat": 4,
 "nbformat_minor": 5
}
